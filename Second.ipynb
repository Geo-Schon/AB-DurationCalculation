{
 "cells": [
  {
   "cell_type": "markdown",
   "id": "cb6bffac-1937-4df7-8cdc-b173bfdbc98e",
   "metadata": {},
   "source": [
    "### Задача №1\n",
    "Наша продуктовая команда в ecommerce магазине планирует запустить тест, направленный на ускорение загрузки сайта.  \n",
    "Одна из основных метрик bounce rate в GA = 40%. Мы предполагаем, что при оптимизации сайта она изменится минимум на 20%.  \n",
    "Средний трафик 4000 человек в день.  \n",
    "Посчитайте сколько нам нужно дней держать эксперимент при alpha = 5% и beta = 20%  "
   ]
  },
  {
   "cell_type": "code",
   "execution_count": 1,
   "id": "86f3cf57-290d-4f8a-a94a-78a151de7a97",
   "metadata": {
    "tags": []
   },
   "outputs": [],
   "source": [
    "import math\n",
    "import scipy.stats as stats"
   ]
  },
  {
   "cell_type": "code",
   "execution_count": 2,
   "id": "a4cdc5ec-9e8d-414d-82b7-c99151665510",
   "metadata": {
    "tags": []
   },
   "outputs": [],
   "source": [
    "def samplesize(mean1, mean2, alpha, beta, power, baseline):\n",
    "    std1 = math.sqrt(baseline * (1 - baseline))\n",
    "    zalpha = stats.norm.ppf(1 - alpha / 2)\n",
    "    zbeta = stats.norm.ppf(power)\n",
    "    std2 = std1 * math.sqrt((baseline - mean2) ** 2 / (mean1 - mean2) ** 2)\n",
    "    return ((std1 * zalpha + std2 * zbeta) / (mean1 - mean2)) ** 2"
   ]
  },
  {
   "cell_type": "code",
   "execution_count": 6,
   "id": "52976f71-a6e4-4b01-ae86-3cce4b13faf6",
   "metadata": {
    "tags": []
   },
   "outputs": [
    {
     "name": "stdout",
     "output_type": "stream",
     "text": [
      "Эксперимент необходимо держать 5 дней\n"
     ]
    }
   ],
   "source": [
    "print(f\"Эксперимент необходимо держать {round(samplesize(mean1=0.4, mean2=-0.2, alpha=0.05, beta=0.2, power=0.8, baseline=0.4))} дней\")"
   ]
  },
  {
   "cell_type": "code",
   "execution_count": null,
   "id": "9388c6ca-cced-4f89-bf10-beffb19da7e2",
   "metadata": {},
   "outputs": [],
   "source": []
  }
 ],
 "metadata": {
  "kernelspec": {
   "display_name": "Python 3 (ipykernel)",
   "language": "python",
   "name": "python3"
  },
  "language_info": {
   "codemirror_mode": {
    "name": "ipython",
    "version": 3
   },
   "file_extension": ".py",
   "mimetype": "text/x-python",
   "name": "python",
   "nbconvert_exporter": "python",
   "pygments_lexer": "ipython3",
   "version": "3.11.4"
  }
 },
 "nbformat": 4,
 "nbformat_minor": 5
}
