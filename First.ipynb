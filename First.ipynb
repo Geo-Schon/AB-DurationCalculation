{
 "cells": [
  {
   "cell_type": "markdown",
   "id": "9f19a67e-ab09-442b-8bbb-0e52570714bf",
   "metadata": {},
   "source": [
    "### Задача №1\n",
    "Продакт на главной mail.ru решил протестировать в рекомендательной ленте контента вместо карточек со статьями видеоплеер с короткими видео.  \n",
    "Нынешний таймспент на юзера в день в среднем равен 25 минут, а стандартная ошибка (SD) равна 156.   \n",
    "Мы предполагаем, что в новой версии таймспент на юзера в день изменится на 10%. Средний трафик 20000 человек в день.   \n",
    "Посчитайте сколько дней необходимо держать эксперимент при alpha = 5% и beta = 20% ."
   ]
  },
  {
   "cell_type": "code",
   "execution_count": 18,
   "id": "cfecf1ce-8a83-41ee-ba8a-c7cff6d6d83d",
   "metadata": {
    "tags": []
   },
   "outputs": [],
   "source": [
    "import numpy as np\n",
    "from scipy.stats import norm"
   ]
  },
  {
   "cell_type": "code",
   "execution_count": 19,
   "id": "dadd56cf-279f-42e5-a2d8-e5ed35c75166",
   "metadata": {
    "tags": []
   },
   "outputs": [],
   "source": [
    "n = 20000\n",
    "sd = 156\n",
    "alpha = 0.05\n",
    "beta = 0.2\n",
    "propdiff = 0.1"
   ]
  },
  {
   "cell_type": "code",
   "execution_count": 20,
   "id": "e0a4fa77-b291-400f-815b-ead122bf753c",
   "metadata": {
    "tags": []
   },
   "outputs": [],
   "source": [
    "se = sd / np.sqrt(n)\n",
    "m = se * norm.ppf(1 - alpha/2)\n",
    "delta = propdiff * n"
   ]
  },
  {
   "cell_type": "code",
   "execution_count": 21,
   "id": "d09b5622-e1a6-4909-ad12-4980c42f3cf8",
   "metadata": {
    "tags": []
   },
   "outputs": [],
   "source": [
    "zalpha = norm.ppf(1 - alpha)  \n",
    "zbeta = norm.ppf(1 - beta) "
   ]
  },
  {
   "cell_type": "code",
   "execution_count": 22,
   "id": "9ed3acfe-c200-4f13-b355-e7bba7ac98af",
   "metadata": {
    "tags": []
   },
   "outputs": [],
   "source": [
    "n1 = (zalpha*m + zbeta*sd/delta)**2\n",
    "n2 = (zalpha*m - zbeta*sd/delta)**2\n",
    "nround = np.ceil(max(n1, n2))\n",
    "days = np.ceil(nround/n)"
   ]
  },
  {
   "cell_type": "code",
   "execution_count": 23,
   "id": "8e96806c-d6c6-4146-af72-1b4cec3a49e9",
   "metadata": {
    "tags": []
   },
   "outputs": [
    {
     "name": "stdout",
     "output_type": "stream",
     "text": [
      "Эксперимент необходимо держать 1 дней\n"
     ]
    }
   ],
   "source": [
    "print(f\"Эксперимент необходимо держать {days:.0f} дней\")"
   ]
  },
  {
   "cell_type": "code",
   "execution_count": null,
   "id": "7aaebc9b-00a0-47e6-9cf8-c515ba502529",
   "metadata": {},
   "outputs": [],
   "source": []
  },
  {
   "cell_type": "code",
   "execution_count": null,
   "id": "b7336042-7a40-4239-8137-9e2b49fee323",
   "metadata": {},
   "outputs": [],
   "source": []
  }
 ],
 "metadata": {
  "kernelspec": {
   "display_name": "Python 3 (ipykernel)",
   "language": "python",
   "name": "python3"
  },
  "language_info": {
   "codemirror_mode": {
    "name": "ipython",
    "version": 3
   },
   "file_extension": ".py",
   "mimetype": "text/x-python",
   "name": "python",
   "nbconvert_exporter": "python",
   "pygments_lexer": "ipython3",
   "version": "3.11.4"
  }
 },
 "nbformat": 4,
 "nbformat_minor": 5
}
